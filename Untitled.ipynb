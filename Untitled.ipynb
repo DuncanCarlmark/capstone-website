{
 "cells": [
  {
   "cell_type": "code",
   "execution_count": 1,
   "id": "macro-sixth",
   "metadata": {},
   "outputs": [],
   "source": [
    "\n",
    "import datetime\n",
    "import spotipy\n",
    "import os\n",
    "import requests\n",
    "\n",
    "# Custom Classes\n",
    "from lib.billboard import *\n",
    "from lib.cf_recommender import *\n",
    "\n",
    "\n",
    "# Directory Paths\n",
    "DATA_DIR = 'data'\n",
    "DATA_DIR_RAW = os.path.join(DATA_DIR, 'raw')\n",
    "DATA_DIR_CLEAN = os.path.join(DATA_DIR, 'clean')\n",
    "DATA_DIR_RECOMMENDATIONS = os.path.join(DATA_DIR, 'recommendations')\n",
    "\n",
    "USER_PROFILE = os.path.join(DATA_DIR_RAW, 'user_profile.csv')\n",
    "USER_ARTIST = os.path.join(DATA_DIR_RAW, 'user_artist.csv')\n",
    "\n",
    "BILLBOARD_SONGS = os.path.join(DATA_DIR_RAW, 'billboard_songs.csv')\n",
    "BILLBOARD_FEATURES = os.path.join(DATA_DIR_RAW, 'billboard_features.csv')\n",
    "\n",
    "# ------------------------------------------- DECLARE GLOBAL VARIABLES ---------------------------------------------------\n",
    "\n",
    "testing = True\n",
    "\n",
    "# Client Information\n",
    "client_id = 'e6be6a0e60124f36ad99038de2f36e91'\n",
    "client_secret = '14116a664bd84048a0c7c3004edc9726'\n",
    "scope = \" \".join(['playlist-modify-public',\"user-top-read\",\"user-read-recently-played\",\"playlist-read-private\"])\n",
    "redirect_uri = None\n",
    "\n",
    "# Algorithm Information\n",
    "AGE_LOWER_BOUND = 15\n",
    "AGE_UPPER_BOUND = 25\n",
    "TASK1_LENGTH = 20\n",
    "\n",
    "\n",
    "# Actual Redirect\n",
    "if testing:\n",
    "    redirect_uri = 'http://127.0.0.1:8080/form'\n",
    "else:\n",
    "    redirect_uri = 'http://54.200.135.162/form'\n",
    "\n",
    "# User input\n",
    "global_vars = {\n",
    "    'access_code': None,\n",
    "    'PARENT_AGE' : 55,\n",
    "    'PARENT_GENRE' : None,\n",
    "    'PARENT_ARTIST' : None\n",
    "}"
   ]
  },
  {
   "cell_type": "code",
   "execution_count": 2,
   "id": "homeless-apple",
   "metadata": {},
   "outputs": [
    {
     "name": "stderr",
     "output_type": "stream",
     "text": [
      "<ipython-input-2-d36268fb0e24>:14: DeprecationWarning: You're using 'as_dict = True'.get_access_token will return the token string directly in future versions. Please adjust your code accordingly, or use get_cached_token instead.\n",
      "  token_info = sp_oauth.get_access_token(global_vars['access_code'])\n",
      "Couldn't read cache at: .cache\n"
     ]
    },
    {
     "name": "stdout",
     "output_type": "stream",
     "text": [
      "Creating empty playlists for: itzpersonal\n",
      "GENERATING PLAYLIST 1\n",
      "SUCCESS: Playlist created\n",
      "Generating song recommendations\n",
      "SUCCESS: Recommendations Generated\n",
      "Playlist Time Range: 1981 - 1991\n",
      "Playlist Length: 20\n",
      "Populating playlist with reccomendation\n",
      "SUCCESS: Playlist populated\n"
     ]
    }
   ],
   "source": [
    "'''\n",
    "Generates the success page for when a playlist is created and also handles the logic for\n",
    "when a playlist is created. This method completes both the task1 and task2 recommendations\n",
    "and then finally outputs them as a playlist on the user's account. \n",
    "\n",
    "Returns:\n",
    "    The flask template for the playlist success page. Technically also returns a playlist of\n",
    "    song recommendations, but this playlist is generated directly on the user's Spotify account.\n",
    "'''\n",
    "\n",
    "# Re make auth object\n",
    "sp_oauth = spotipy.oauth2.SpotifyOAuth(client_id, client_secret, redirect_uri, scope=scope)\n",
    "# Get the actual access token\n",
    "token_info = sp_oauth.get_access_token(global_vars['access_code'])\n",
    "access_token = token_info['access_token']\n",
    "# Create Spotify Object and get userID\n",
    "sp = spotipy.Spotify(auth=access_token)\n",
    "\n",
    "# Remove any cached tokens\n",
    "if os.path.exists('.cache'):\n",
    "    os.remove('.cache')\n",
    "\n",
    "\n",
    "user = sp.current_user()['id']\n",
    "print(\"Creating empty playlists for: \" + str(user))\n",
    "\n",
    "#------------------------------------------------ GENERATING TASK 1 PLAYLIST ------------------------------------------------\n",
    "print(\"GENERATING PLAYLIST 1\")\n",
    "# Create a blank playlist\n",
    "playlist_t1 = sp.user_playlist_create(user=user,\n",
    "                        name='Task1: Playlist',\n",
    "                        public = True,\n",
    "                        collaborative = False,\n",
    "                        description = 'This is a test')\n",
    "print(\"SUCCESS: Playlist created\")\n",
    "\n",
    "\n",
    "print(\"Generating song recommendations\")\n",
    "current_year = datetime.datetime.today().year\n",
    "start_year = current_year - abs(global_vars['PARENT_AGE'] - AGE_LOWER_BOUND)\n",
    "end_year = current_year - abs(global_vars['PARENT_AGE'] - AGE_UPPER_BOUND)\n",
    "\n",
    "# Create billboad recommender object, generate recommendations, add to playlist\n",
    "billboard_recommender = billboard()\n",
    "parent_to_user = billboard_recommender.getList(length = TASK1_LENGTH,\n",
    "                                            genre=['rock'],\n",
    "                                            startY = start_year, \n",
    "                                            endY = end_year)\n",
    "print(\"SUCCESS: Recommendations Generated\")\n",
    "print(\"Playlist Time Range: \" + str(start_year) + \" - \"  + str(end_year))\n",
    "print(\"Playlist Length: \" + str(len(parent_to_user)))\n",
    "\n",
    "\n",
    "print(\"Populating playlist with reccomendation\")\n",
    "sp.playlist_add_items(playlist_id=playlist_t1['id'], \n",
    "                        items=parent_to_user, \n",
    "                        position=None)\n",
    "print(\"SUCCESS: Playlist populated\")\n"
   ]
  },
  {
   "cell_type": "code",
   "execution_count": 3,
   "id": "norwegian-guide",
   "metadata": {},
   "outputs": [
    {
     "name": "stdout",
     "output_type": "stream",
     "text": [
      "GENERATING PLAYLIST 2\n",
      "SUCCESS: Blank playlist created\n",
      "Loading Last.fm dataset\n",
      "CLEANING USER DATA\n",
      "CLEANING HISTORY DATA\n",
      "CREATING NEW ARTIST FEATURES\n",
      "COMBINING NEW FEATURES WITH EXISTING DATA\n",
      "MIN MAX SCALING ARTIST 'play' DATA\n",
      "ENSURING ALL DATASET ENTRIES ARE UNIQUE\n",
      "GETTING USER PLAYLISTS\n",
      "EXTRACTING ARTISTS FROM USER PLAYLISTS\n"
     ]
    },
    {
     "name": "stderr",
     "output_type": "stream",
     "text": [
      "WARNING:root:OpenBLAS detected. Its highly recommend to set the environment variable 'export OPENBLAS_NUM_THREADS=1' to disable its internal multithreading\n"
     ]
    },
    {
     "name": "stdout",
     "output_type": "stream",
     "text": [
      "CREATING ARTIST-USER AND USER-ARTIST MATRICIES\n",
      "FITTING ALS MODELS\n"
     ]
    },
    {
     "data": {
      "application/vnd.jupyter.widget-view+json": {
       "model_id": "7c061d70887d4e51bdf53033055950b9",
       "version_major": 2,
       "version_minor": 0
      },
      "text/plain": [
       "  0%|          | 0/50 [00:00<?, ?it/s]"
      ]
     },
     "metadata": {},
     "output_type": "display_data"
    }
   ],
   "source": [
    "print(\"GENERATING PLAYLIST 2\")\n",
    "# Create a blank playlist\n",
    "playlist_t2 = sp.user_playlist_create(user=user,\n",
    "                        name='Task2: Playlist',\n",
    "                        public = True,\n",
    "                        collaborative = False,\n",
    "                        description = 'This is a test')\n",
    "print(\"SUCCESS: Blank playlist created\")\n",
    "\n",
    "print(\"Loading Last.fm dataset\")\n",
    "lastfm_profile = pd.read_csv(USER_PROFILE)\n",
    "lastfm_usersong = pd.read_csv(USER_ARTIST)\n",
    "\n",
    "\n",
    "print(\"CLEANING USER DATA\")\n",
    "# Cleaning user data and filtering out all non US users\n",
    "cleaned_users = lastfm_profile[['user_id', 'age', 'country']].dropna().reset_index(drop=True)\n",
    "cleaned_users_us = cleaned_users[cleaned_users['country'] == 'United States']\n",
    "cleaned_users = cleaned_users_us[cleaned_users_us['age'] > 0]\n",
    "# Choose users based on the user's specified age\n",
    "chosen_users = extract_users(cleaned_users, global_vars['PARENT_AGE'], 5)\n",
    "\n",
    "print(\"CLEANING HISTORY DATA\")\n",
    "cleaned_history = lastfm_usersong[['user_id', 'artist_id', 'artist_name', 'plays']].dropna().reset_index(drop=True)\n",
    "# Filters down the cleaned history dataframe to only include users with propper profile values\n",
    "cleaned_history = extract_histories(cleaned_history, cleaned_users)\n",
    "# Filters down the dataframe again to only include users that were chosen based on age\n",
    "chosen_history = extract_histories(cleaned_history, chosen_users)\n",
    "ap = chosen_history\n",
    "\n",
    "\n",
    "print(\"CREATING NEW ARTIST FEATURES\")\n",
    "# Create a DataFrame of artist statistics\n",
    "# For each artist finds: totalUniqueUsers, totalArtistPlays, avgUserPlays\n",
    "artist_rank = ap.groupby(['artist_name']) \\\n",
    ".agg({'user_id' : 'count', 'plays' : 'sum'}) \\\n",
    ".rename(columns={\"user_id\" : 'totalUniqueUsers', \"plays\" : \"totalArtistPlays\"}) \\\n",
    ".sort_values(['totalArtistPlays'], ascending=False)\n",
    "artist_rank['avgUserPlays'] = artist_rank['totalArtistPlays'] / artist_rank['totalUniqueUsers']\n",
    "\n",
    "\n",
    "print(\"COMBINING NEW FEATURES WITH EXISTING DATA\")\n",
    "# Joins new artist information with user-artist listening history\n",
    "ap = ap.join(artist_rank, on=\"artist_name\", how=\"inner\") \\\n",
    ".sort_values(['plays'], ascending=False)\n",
    "\n",
    "\n",
    "print(\"MIN MAX SCALING ARTIST 'play' DATA\")\n",
    "# Min max scales play count\n",
    "pc = ap.plays\n",
    "play_count_scaled = (pc - pc.min()) / (pc.max() - pc.min())\n",
    "ap = ap.assign(playCountScaled=play_count_scaled)\n",
    "\n",
    "\n",
    "print(\"ENSURING ALL DATASET ENTRIES ARE UNIQUE\")\n",
    "# Drop duplicates just in case?\n",
    "ap = ap.drop_duplicates()\n",
    "# Everything is already a unique pairing, but in case groupby the identifying information\n",
    "grouped_df = ap.groupby(['user_id', 'artist_id', 'artist_name']).sum().reset_index()\n",
    "\n",
    "\n",
    "# Convert columns to category codes for implicit\n",
    "grouped_df['artist_name'] = grouped_df['artist_name'].astype(\"category\")\n",
    "grouped_df['user_id'] = grouped_df['user_id'].astype(\"category\")\n",
    "grouped_df['artist_id'] = grouped_df['artist_id'].astype(\"category\")\n",
    "grouped_df['user_id'] = grouped_df['user_id'].cat.codes\n",
    "grouped_df['artist_id'] = grouped_df['artist_id'].cat.codes\n",
    "\n",
    "print(\"GETTING USER PLAYLISTS\")\n",
    "r = sp.current_user_playlists()\n",
    "playlist_ids = parse_playlist_ids(r)\n",
    "\n",
    "print(\"EXTRACTING ARTISTS FROM USER PLAYLISTS\")\n",
    "# Pull all the tracks from a playlist\n",
    "tracks = []\n",
    "albums = []\n",
    "artists = []\n",
    "\n",
    "# Loop through each playlist one by one\n",
    "for pid in playlist_ids:\n",
    "    # Request all track information\n",
    "    r = sp.playlist_items(pid)\n",
    "    tracks, albums, artists = parse_track_info(r)\n",
    "\n",
    "\n",
    "# Condense into a series of normalized artist counts\n",
    "playlist_artists = pd.Series(artists)\n",
    "playlist_grouped = playlist_artists.value_counts(normalize=True)\n",
    "\n",
    "# Essentially create a fake user-ID for our listening history\n",
    "no_artist = playlist_grouped.shape[0]\n",
    "curr_user = grouped_df.iloc[-1]['user_id'] + 1\n",
    "curr_user_id = [curr_user] * no_artist\n",
    "\n",
    "# Creates a df of all artists in a users listening history, their normalized playcounts, \n",
    "# and the user_id of the last user in the last.fm dataset?\n",
    "playlist_df = pd.DataFrame(playlist_grouped, columns=['playCountScaled']) \n",
    "playlist_df.reset_index(level=0, inplace=True)\n",
    "playlist_df.columns = ['artist_name', 'playCountScaled']\n",
    "playlist_df['user_id'] = pd.Series(curr_user_id)\n",
    "\n",
    "# Reorganize df columns so that user_id comes first\n",
    "cols = playlist_df.columns.tolist()\n",
    "cols = cols[-1:] + cols[:-1]\n",
    "playlist_df = playlist_df[cols]\n",
    "# Clean artist_name strings\n",
    "playlist_df['artist_name'] = playlist_df['artist_name'].str.lower() \n",
    "\n",
    "# Create a dictionary that maps artist_names from last.fm with their artist_ids\n",
    "artist_pairing = dict(zip(grouped_df.artist_name, grouped_df.artist_id))\n",
    "\n",
    "# In the playlist df give artists their corresponding last.fm ID\n",
    "# Also drop any artists (NA values) that are not in the last.fm dataset\n",
    "playlist_df['artist_id'] = playlist_df['artist_name'].map(artist_pairing)\n",
    "playlist_df = playlist_df.dropna().reset_index(drop=True)\n",
    "playlist_df['artist_id'] = playlist_df['artist_id'].astype(int)\n",
    "\n",
    "# Append new user's listening history to the dataframe of last.fm user histories\n",
    "updated_df = grouped_df.append(playlist_df)\n",
    "\n",
    "# Create new user_ids and artist_ids to ensure consistiency before creating CF matricies\n",
    "updated_df['artist_name'] = updated_df['artist_name'].astype(\"category\")\n",
    "updated_df['user_id'] = updated_df['user_id'].astype(\"category\")\n",
    "updated_df['artist_id'] = updated_df['artist_id'].astype(\"category\")\n",
    "updated_df['user_id'] = updated_df['user_id'].cat.codes\n",
    "updated_df['artist_id'] = updated_df['artist_id'].cat.codes\n",
    "\n",
    "print(\"CREATING ARTIST-USER AND USER-ARTIST MATRICIES\")\n",
    "# Take user-artist pairings and their associated normalized playcounts and properly scale them\n",
    "sparse_artist_user = sparse.csr_matrix((updated_df['playCountScaled'].astype(float), (updated_df['artist_id'], updated_df['user_id'])))\n",
    "sparse_user_artist = sparse.csr_matrix((updated_df['playCountScaled'].astype(float), (updated_df['user_id'], updated_df['artist_id'])))\n",
    "model = implicit.als.AlternatingLeastSquares(factors=20, regularization=0.1, iterations=50)\n",
    "\n",
    "alpha = 15\n",
    "data = (sparse_artist_user * alpha).astype('double')\n",
    "print(\"FITTING ALS MODELS\")\n",
    "model.fit(data)\n",
    "\n",
    "user_vecs = model.user_factors\n",
    "artist_vecs = model.item_factors\n",
    "# Create recommendations for current user\n",
    "user_id = curr_user\n",
    "\n",
    "\n",
    "   "
   ]
  },
  {
   "cell_type": "code",
   "execution_count": 4,
   "id": "strategic-algorithm",
   "metadata": {},
   "outputs": [
    {
     "name": "stdout",
     "output_type": "stream",
     "text": [
      "GENERATING RECOMMMENDATIONS LIST\n"
     ]
    }
   ],
   "source": [
    "print(\"GENERATING RECOMMMENDATIONS LIST\")\n",
    "recommendations = recommend(user_id, sparse_user_artist, user_vecs, artist_vecs, updated_df)\n",
    "updated_df.loc[updated_df['user_id'] == curr_user].sort_values(by=['playCountScaled'], ascending=False)[['artist_name', 'user_id', 'playCountScaled']].head(10)\n",
    "artist_list = recommendations['artist_name'].to_list()"
   ]
  },
  {
   "cell_type": "code",
   "execution_count": 5,
   "id": "parental-delta",
   "metadata": {},
   "outputs": [
    {
     "data": {
      "text/plain": [
       "10"
      ]
     },
     "execution_count": 5,
     "metadata": {},
     "output_type": "execute_result"
    }
   ],
   "source": [
    "len(artist_list)"
   ]
  },
  {
   "cell_type": "code",
   "execution_count": 6,
   "id": "latter-persian",
   "metadata": {},
   "outputs": [],
   "source": [
    "# Take the given list of top artists recommendations and get each artist's top songs\n",
    "top_song_names, top_song_ids = get_top_recommended_tracks(artist_list, sp)"
   ]
  },
  {
   "cell_type": "code",
   "execution_count": 7,
   "id": "earned-henry",
   "metadata": {},
   "outputs": [
    {
     "name": "stdout",
     "output_type": "stream",
     "text": [
      "Populating playlist with reccomendation\n"
     ]
    },
    {
     "ename": "NameError",
     "evalue": "name 'user_to_parent' is not defined",
     "output_type": "error",
     "traceback": [
      "\u001b[1;31m---------------------------------------------------------------------------\u001b[0m",
      "\u001b[1;31mNameError\u001b[0m                                 Traceback (most recent call last)",
      "\u001b[1;32m<ipython-input-7-3c7f76b16cf0>\u001b[0m in \u001b[0;36m<module>\u001b[1;34m\u001b[0m\n\u001b[0;32m      1\u001b[0m \u001b[0mprint\u001b[0m\u001b[1;33m(\u001b[0m\u001b[1;34m\"Populating playlist with reccomendation\"\u001b[0m\u001b[1;33m)\u001b[0m\u001b[1;33m\u001b[0m\u001b[1;33m\u001b[0m\u001b[0m\n\u001b[0;32m      2\u001b[0m sp.playlist_add_items(playlist_id=playlist_t2['id'], \n\u001b[1;32m----> 3\u001b[1;33m                         \u001b[0mitems\u001b[0m\u001b[1;33m=\u001b[0m\u001b[0muser_to_parent\u001b[0m\u001b[1;33m,\u001b[0m\u001b[1;33m\u001b[0m\u001b[1;33m\u001b[0m\u001b[0m\n\u001b[0m\u001b[0;32m      4\u001b[0m                         position=None)\n\u001b[0;32m      5\u001b[0m \u001b[0mprint\u001b[0m\u001b[1;33m(\u001b[0m\u001b[1;34m\"SUCCESS: Playlist populated\"\u001b[0m\u001b[1;33m)\u001b[0m\u001b[1;33m\u001b[0m\u001b[1;33m\u001b[0m\u001b[0m\n",
      "\u001b[1;31mNameError\u001b[0m: name 'user_to_parent' is not defined"
     ]
    }
   ],
   "source": [
    "\n",
    "print(\"Populating playlist with reccomendation\")\n",
    "sp.playlist_add_items(playlist_id=playlist_t2['id'], \n",
    "                        items=user_to_parent, \n",
    "                        position=None)\n",
    "print(\"SUCCESS: Playlist populated\")"
   ]
  }
 ],
 "metadata": {
  "kernelspec": {
   "display_name": "Python 3",
   "language": "python",
   "name": "python3"
  },
  "language_info": {
   "codemirror_mode": {
    "name": "ipython",
    "version": 3
   },
   "file_extension": ".py",
   "mimetype": "text/x-python",
   "name": "python",
   "nbconvert_exporter": "python",
   "pygments_lexer": "ipython3",
   "version": "3.9.1"
  }
 },
 "nbformat": 4,
 "nbformat_minor": 5
}
